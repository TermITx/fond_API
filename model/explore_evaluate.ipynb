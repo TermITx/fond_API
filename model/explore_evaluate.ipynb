{
 "cells": [
  {
   "cell_type": "code",
   "execution_count": 10,
   "metadata": {},
   "outputs": [],
   "source": [
    "import sys,os,json\n",
    "from model.mom_trans.momentum_transformer import TftDeepMomentumNetworkModel \n",
    "from model.settings.default import QUANDL_TICKERS\n",
    "from model.mom_trans.model_inputs import ModelFeatures\n",
    "import pandas as pd"
   ]
  },
  {
   "cell_type": "code",
   "execution_count": 35,
   "metadata": {},
   "outputs": [],
   "source": [
    "experiment_name = \"results/experiment_quandl_100assets_tft_cp12621_len252_notime_div_v1/2016-2023\"\n",
    "hp_directory = os.path.join(experiment_name + \"/best_hyperparameters.json\")\n",
    "checkpoint_path = \"results/experiment_quandl_100assets_tft_cp12621_len252_notime_div_v1/2016-2023/best/checkpoints\"\n",
    "params = {}\n",
    "hiperparameters={}\n",
    "with open('results/experiment_quandl_100assets_tft_cp12621_len252_notime_div_v1/2016-2023/fixed_params.json') as json_file:\n",
    "    params = json.load(json_file)\n",
    "with open('results/experiment_quandl_100assets_tft_cp12621_len252_notime_div_v1/2016-2023/best_hyperparameters.json') as json_file:\n",
    "    hiperparameters = json.load(json_file)\n",
    "\n",
    "features_file_path = \"data/quandl_cpd_126lbw.csv\""
   ]
  },
  {
   "cell_type": "code",
   "execution_count": 36,
   "metadata": {},
   "outputs": [
    {
     "name": "stdout",
     "output_type": "stream",
     "text": [
      "7\n",
      "Index(['date', 'ticker', 'close', 'srs', 'daily_returns', 'daily_vol',\n",
      "       'target_returns', 'norm_daily_return', 'norm_monthly_return',\n",
      "       'norm_quarterly_return', 'norm_biannual_return', 'norm_annual_return',\n",
      "       'macd_8_24', 'macd_16_48', 'macd_32_96', 'day_of_week', 'day_of_month',\n",
      "       'week_of_year', 'month_of_year', 'year', 'cp_rl_126', 'cp_score_126',\n",
      "       'cp_rl_21', 'cp_score_21', 'sd_parkinson_126', 'skew_126',\n",
      "       'bbands_mavg_126', 'close_above_sma22', 'ema_above_sma200',\n",
      "       'close_above_vwap_20', 'close_above_vwap_50', 'lm_std2_126',\n",
      "       'sharpe_126', 'q1_close_divergence_100', 'q50_close_divergence_100',\n",
      "       'q75_close_divergence_50', 'rolling_mode_200', 'rolling_mode_500',\n",
      "       'backcusum_rejections_10_126', 'exuber_126_2_sadf',\n",
      "       'exuber_126_2_bsadf', 'autoarima_1_126_PointForecast',\n",
      "       'autoarima_1_126_Lo80', 'autoarima_1_126_Hi95',\n",
      "       'autoarima_last_126_PointForecast', 'autoarima_last_126_Lo80',\n",
      "       'autoarima_sd_126_Lo95', 'autoarima_sd_126_Hi95'],\n",
      "      dtype='object')\n",
      "Index(['skew_126', 'bbands_mavg_126', 'close_above_sma22', 'ema_above_sma200',\n",
      "       'close_above_vwap_20', 'close_above_vwap_50', 'lm_std2_126',\n",
      "       'sharpe_126', 'q1_close_divergence_100', 'q50_close_divergence_100',\n",
      "       'q75_close_divergence_50', 'rolling_mode_200', 'rolling_mode_500',\n",
      "       'backcusum_rejections_10_126', 'exuber_126_2_sadf',\n",
      "       'exuber_126_2_bsadf', 'autoarima_1_126_PointForecast',\n",
      "       'autoarima_1_126_Lo80', 'autoarima_1_126_Hi95',\n",
      "       'autoarima_last_126_PointForecast', 'autoarima_last_126_Lo80',\n",
      "       'autoarima_sd_126_Lo95', 'autoarima_sd_126_Hi95'],\n",
      "      dtype='object')\n",
      "[('ticker', <DataTypes.CATEGORICAL: 1>, <InputTypes.ID: 4>), ('date', <DataTypes.DATE: 2>, <InputTypes.TIME: 5>), ('target_returns', <DataTypes.REAL_VALUED: 0>, <InputTypes.TARGET: 0>), ('norm_daily_return', <DataTypes.REAL_VALUED: 0>, <InputTypes.KNOWN_INPUT: 2>), ('norm_monthly_return', <DataTypes.REAL_VALUED: 0>, <InputTypes.KNOWN_INPUT: 2>), ('norm_quarterly_return', <DataTypes.REAL_VALUED: 0>, <InputTypes.KNOWN_INPUT: 2>), ('norm_biannual_return', <DataTypes.REAL_VALUED: 0>, <InputTypes.KNOWN_INPUT: 2>), ('norm_annual_return', <DataTypes.REAL_VALUED: 0>, <InputTypes.KNOWN_INPUT: 2>), ('macd_8_24', <DataTypes.REAL_VALUED: 0>, <InputTypes.KNOWN_INPUT: 2>), ('macd_16_48', <DataTypes.REAL_VALUED: 0>, <InputTypes.KNOWN_INPUT: 2>), ('macd_32_96', <DataTypes.REAL_VALUED: 0>, <InputTypes.KNOWN_INPUT: 2>), ('skew_126', <DataTypes.REAL_VALUED: 0>, <InputTypes.KNOWN_INPUT: 2>), ('bbands_mavg_126', <DataTypes.REAL_VALUED: 0>, <InputTypes.KNOWN_INPUT: 2>), ('close_above_sma22', <DataTypes.REAL_VALUED: 0>, <InputTypes.KNOWN_INPUT: 2>), ('ema_above_sma200', <DataTypes.REAL_VALUED: 0>, <InputTypes.KNOWN_INPUT: 2>), ('close_above_vwap_20', <DataTypes.REAL_VALUED: 0>, <InputTypes.KNOWN_INPUT: 2>), ('close_above_vwap_50', <DataTypes.REAL_VALUED: 0>, <InputTypes.KNOWN_INPUT: 2>), ('lm_std2_126', <DataTypes.REAL_VALUED: 0>, <InputTypes.KNOWN_INPUT: 2>), ('sharpe_126', <DataTypes.REAL_VALUED: 0>, <InputTypes.KNOWN_INPUT: 2>), ('q1_close_divergence_100', <DataTypes.REAL_VALUED: 0>, <InputTypes.KNOWN_INPUT: 2>), ('q50_close_divergence_100', <DataTypes.REAL_VALUED: 0>, <InputTypes.KNOWN_INPUT: 2>), ('q75_close_divergence_50', <DataTypes.REAL_VALUED: 0>, <InputTypes.KNOWN_INPUT: 2>), ('rolling_mode_200', <DataTypes.REAL_VALUED: 0>, <InputTypes.KNOWN_INPUT: 2>), ('rolling_mode_500', <DataTypes.REAL_VALUED: 0>, <InputTypes.KNOWN_INPUT: 2>), ('backcusum_rejections_10_126', <DataTypes.REAL_VALUED: 0>, <InputTypes.KNOWN_INPUT: 2>), ('exuber_126_2_sadf', <DataTypes.REAL_VALUED: 0>, <InputTypes.KNOWN_INPUT: 2>), ('exuber_126_2_bsadf', <DataTypes.REAL_VALUED: 0>, <InputTypes.KNOWN_INPUT: 2>), ('autoarima_1_126_PointForecast', <DataTypes.REAL_VALUED: 0>, <InputTypes.KNOWN_INPUT: 2>), ('autoarima_1_126_Lo80', <DataTypes.REAL_VALUED: 0>, <InputTypes.KNOWN_INPUT: 2>), ('autoarima_1_126_Hi95', <DataTypes.REAL_VALUED: 0>, <InputTypes.KNOWN_INPUT: 2>), ('autoarima_last_126_PointForecast', <DataTypes.REAL_VALUED: 0>, <InputTypes.KNOWN_INPUT: 2>), ('autoarima_last_126_Lo80', <DataTypes.REAL_VALUED: 0>, <InputTypes.KNOWN_INPUT: 2>), ('autoarima_sd_126_Lo95', <DataTypes.REAL_VALUED: 0>, <InputTypes.KNOWN_INPUT: 2>), ('autoarima_sd_126_Hi95', <DataTypes.REAL_VALUED: 0>, <InputTypes.KNOWN_INPUT: 2>)]\n"
     ]
    }
   ],
   "source": [
    "\n",
    "\n",
    "raw_data = pd.read_csv(features_file_path, index_col=0, parse_dates=True)\n",
    "print(len(raw_data[\"ticker\"].unique()))\n",
    "raw_data[\"date\"] = raw_data[\"date\"].astype(\"datetime64[ns]\")\n",
    "train_interval = [2001, 2003, 2023]\n",
    "changepoint_lbws = [126, 21]\n",
    "ASSET_CLASS_MAPPING = dict(zip(QUANDL_TICKERS, [\"COMB\"] * len(QUANDL_TICKERS)))\n",
    "\n",
    "model_features = ModelFeatures(\n",
    "    raw_data,\n",
    "    params[\"total_time_steps\"],\n",
    "    start_boundary=train_interval[0],\n",
    "    test_boundary=train_interval[1],\n",
    "    test_end=train_interval[2],\n",
    "    changepoint_lbws=changepoint_lbws,\n",
    "    split_tickers_individually=params[\"split_tickers_individually\"],\n",
    "    train_valid_ratio=params[\"train_valid_ratio\"],\n",
    "    add_ticker_as_static=(params[\"architecture\"] == \"TFT\"),\n",
    "    time_features=params[\"time_features\"],\n",
    "    lags=params[\"force_output_sharpe_length\"],\n",
    "    asset_class_dictionary=ASSET_CLASS_MAPPING,\n",
    "    )"
   ]
  },
  {
   "cell_type": "code",
   "execution_count": 37,
   "metadata": {},
   "outputs": [
    {
     "name": "stdout",
     "output_type": "stream",
     "text": [
      "Deep Momentum Network params:\n",
      "architecture = TFT\n",
      "total_time_steps = 252\n",
      "early_stopping_patience = 100\n",
      "multiprocessing_workers = 32\n",
      "num_epochs = 300\n",
      "fill_blank_dates = False\n",
      "split_tickers_individually = True\n",
      "random_search_iterations = 10\n",
      "evaluate_diversified_val_sharpe = True\n",
      "train_valid_ratio = 0.9\n",
      "time_features = False\n",
      "force_output_sharpe_length = None\n",
      "input_size = 36\n",
      "output_size = 1\n",
      "category_counts = [16]\n",
      "static_input_loc = [35]\n",
      "known_regular_inputs = [0, 1, 2, 3, 4, 5, 6, 7, 8, 9, 10, 11, 12, 13, 14, 15, 16, 17, 18, 19, 20, 21, 22, 23, 24, 25, 26, 27, 28, 29, 30, 31, 32, 33, 34]\n",
      "known_categorical_inputs = [0]\n",
      "changepoint_lbws = [126, 21]\n",
      "features_file_path = data/quandl_cpd_126lbw.csv\n",
      "column_definition = [('ticker', <DataTypes.CATEGORICAL: 1>, <InputTypes.ID: 4>), ('date', <DataTypes.DATE: 2>, <InputTypes.TIME: 5>), ('norm_daily_return', <DataTypes.REAL_VALUED: 0>, <InputTypes.KNOWN_INPUT: 2>), ('norm_monthly_return', <DataTypes.REAL_VALUED: 0>, <InputTypes.KNOWN_INPUT: 2>), ('norm_quarterly_return', <DataTypes.REAL_VALUED: 0>, <InputTypes.KNOWN_INPUT: 2>), ('norm_biannual_return', <DataTypes.REAL_VALUED: 0>, <InputTypes.KNOWN_INPUT: 2>), ('norm_annual_return', <DataTypes.REAL_VALUED: 0>, <InputTypes.KNOWN_INPUT: 2>), ('macd_8_24', <DataTypes.REAL_VALUED: 0>, <InputTypes.KNOWN_INPUT: 2>), ('macd_16_48', <DataTypes.REAL_VALUED: 0>, <InputTypes.KNOWN_INPUT: 2>), ('macd_32_96', <DataTypes.REAL_VALUED: 0>, <InputTypes.KNOWN_INPUT: 2>), ('skew_126', <DataTypes.REAL_VALUED: 0>, <InputTypes.KNOWN_INPUT: 2>), ('bbands_mavg_126', <DataTypes.REAL_VALUED: 0>, <InputTypes.KNOWN_INPUT: 2>), ('close_above_sma22', <DataTypes.REAL_VALUED: 0>, <InputTypes.KNOWN_INPUT: 2>), ('ema_above_sma200', <DataTypes.REAL_VALUED: 0>, <InputTypes.KNOWN_INPUT: 2>), ('close_above_vwap_20', <DataTypes.REAL_VALUED: 0>, <InputTypes.KNOWN_INPUT: 2>), ('close_above_vwap_50', <DataTypes.REAL_VALUED: 0>, <InputTypes.KNOWN_INPUT: 2>), ('lm_std2_126', <DataTypes.REAL_VALUED: 0>, <InputTypes.KNOWN_INPUT: 2>), ('sharpe_126', <DataTypes.REAL_VALUED: 0>, <InputTypes.KNOWN_INPUT: 2>), ('q1_close_divergence_100', <DataTypes.REAL_VALUED: 0>, <InputTypes.KNOWN_INPUT: 2>), ('q50_close_divergence_100', <DataTypes.REAL_VALUED: 0>, <InputTypes.KNOWN_INPUT: 2>), ('q75_close_divergence_50', <DataTypes.REAL_VALUED: 0>, <InputTypes.KNOWN_INPUT: 2>), ('rolling_mode_200', <DataTypes.REAL_VALUED: 0>, <InputTypes.KNOWN_INPUT: 2>), ('rolling_mode_500', <DataTypes.REAL_VALUED: 0>, <InputTypes.KNOWN_INPUT: 2>), ('backcusum_rejections_10_126', <DataTypes.REAL_VALUED: 0>, <InputTypes.KNOWN_INPUT: 2>), ('exuber_126_2_sadf', <DataTypes.REAL_VALUED: 0>, <InputTypes.KNOWN_INPUT: 2>), ('exuber_126_2_bsadf', <DataTypes.REAL_VALUED: 0>, <InputTypes.KNOWN_INPUT: 2>), ('autoarima_1_126_PointForecast', <DataTypes.REAL_VALUED: 0>, <InputTypes.KNOWN_INPUT: 2>), ('autoarima_1_126_Lo80', <DataTypes.REAL_VALUED: 0>, <InputTypes.KNOWN_INPUT: 2>), ('autoarima_1_126_Hi95', <DataTypes.REAL_VALUED: 0>, <InputTypes.KNOWN_INPUT: 2>), ('autoarima_last_126_PointForecast', <DataTypes.REAL_VALUED: 0>, <InputTypes.KNOWN_INPUT: 2>), ('autoarima_last_126_Lo80', <DataTypes.REAL_VALUED: 0>, <InputTypes.KNOWN_INPUT: 2>), ('autoarima_sd_126_Lo95', <DataTypes.REAL_VALUED: 0>, <InputTypes.KNOWN_INPUT: 2>), ('autoarima_sd_126_Hi95', <DataTypes.REAL_VALUED: 0>, <InputTypes.KNOWN_INPUT: 2>), ('cp_score_126', <DataTypes.REAL_VALUED: 0>, <InputTypes.KNOWN_INPUT: 2>), ('cp_rl_126', <DataTypes.REAL_VALUED: 0>, <InputTypes.KNOWN_INPUT: 2>), ('cp_score_21', <DataTypes.REAL_VALUED: 0>, <InputTypes.KNOWN_INPUT: 2>), ('cp_rl_21', <DataTypes.REAL_VALUED: 0>, <InputTypes.KNOWN_INPUT: 2>), ('static_ticker', <DataTypes.CATEGORICAL: 1>, <InputTypes.STATIC_INPUT: 3>), ('target_returns', <DataTypes.REAL_VALUED: 0>, <InputTypes.TARGET: 0>)]\n",
      "num_encoder_steps = 0\n",
      "stack_size = 1\n",
      "num_heads = 4\n"
     ]
    },
    {
     "name": "stderr",
     "output_type": "stream",
     "text": [
      "/usr/local/anaconda3/lib/python3.8/site-packages/keras/optimizer_v2/adam.py:105: UserWarning: The `lr` argument is deprecated, use `learning_rate` instead.\n",
      "  super(Adam, self).__init__(name, **kwargs)\n"
     ]
    }
   ],
   "source": [
    "    \n",
    "model = TftDeepMomentumNetworkModel(\n",
    "        experiment_name,\n",
    "        experiment_name  + \"novo\",\n",
    "        #hp_minibatch_size,\n",
    "        **params,\n",
    "        #**model_features.input_params,\n",
    "        **{\n",
    "            \"column_definition\": model_features.get_column_definition(),\n",
    "            \"num_encoder_steps\": 0,  # TODO artefact\n",
    "            \"stack_size\": 1,\n",
    "            \"num_heads\": 4,  # TODO to fixed params\n",
    "        },\n",
    "    )"
   ]
  },
  {
   "cell_type": "code",
   "execution_count": 38,
   "metadata": {},
   "outputs": [],
   "source": [
    "a = model.load_model(hiperparameters)"
   ]
  },
  {
   "cell_type": "code",
   "execution_count": 39,
   "metadata": {},
   "outputs": [],
   "source": [
    "m = a.load_weights(\"results/experiment_quandl_100assets_tft_cp12621_len252_notime_div_v1/2016-2023/best/checkpoints/checkpoint\")"
   ]
  },
  {
   "cell_type": "markdown",
   "metadata": {},
   "source": []
  },
  {
   "cell_type": "code",
   "execution_count": null,
   "metadata": {},
   "outputs": [],
   "source": []
  },
  {
   "cell_type": "code",
   "execution_count": 40,
   "metadata": {},
   "outputs": [
    {
     "data": {
      "text/plain": [
       "<tensorflow.python.training.tracking.util.CheckpointLoadStatus at 0x7fd1407a8640>"
      ]
     },
     "execution_count": 40,
     "metadata": {},
     "output_type": "execute_result"
    }
   ],
   "source": [
    "m"
   ]
  },
  {
   "cell_type": "code",
   "execution_count": 41,
   "metadata": {},
   "outputs": [],
   "source": [
    "res = model.get_positions(\n",
    "        model_features.test_sliding,\n",
    "        a,\n",
    "        sliding_window=True,\n",
    "        years_geq=train_interval[1],\n",
    "        years_lt=train_interval[2],\n",
    "    )"
   ]
  },
  {
   "cell_type": "code",
   "execution_count": null,
   "metadata": {},
   "outputs": [],
   "source": [
    "res[0].to_csv(\"long_window_s_minus.csv\", index=None)"
   ]
  }
 ],
 "metadata": {
  "kernelspec": {
   "display_name": "Python 3.8.5 ('base')",
   "language": "python",
   "name": "python3"
  },
  "language_info": {
   "codemirror_mode": {
    "name": "ipython",
    "version": 3
   },
   "file_extension": ".py",
   "mimetype": "text/x-python",
   "name": "python",
   "nbconvert_exporter": "python",
   "pygments_lexer": "ipython3",
   "version": "3.8.5"
  },
  "orig_nbformat": 4,
  "vscode": {
   "interpreter": {
    "hash": "3067ead486e059ec00ffe7555bdb889e6e264a24dc711bf108106cc7baee8d5d"
   }
  }
 },
 "nbformat": 4,
 "nbformat_minor": 2
}
